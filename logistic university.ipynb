{
 "cells": [
  {
   "cell_type": "code",
   "execution_count": 1,
   "metadata": {},
   "outputs": [],
   "source": [
    "import pandas as pd\n",
    "import numpy as np\n",
    "import matplotlib.pyplot as plt\n",
    "import statsmodels.api as sm\n",
    "from sklearn import linear_model \n",
    "from sklearn.linear_model import LogisticRegression\n",
    "from sklearn.metrics import mean_squared_error\n",
    "from sklearn.metrics import classification_report"
   ]
  },
  {
   "cell_type": "code",
   "execution_count": 2,
   "metadata": {},
   "outputs": [
    {
     "data": {
      "text/html": [
       "<div>\n",
       "<style scoped>\n",
       "    .dataframe tbody tr th:only-of-type {\n",
       "        vertical-align: middle;\n",
       "    }\n",
       "\n",
       "    .dataframe tbody tr th {\n",
       "        vertical-align: top;\n",
       "    }\n",
       "\n",
       "    .dataframe thead th {\n",
       "        text-align: right;\n",
       "    }\n",
       "</style>\n",
       "<table border=\"1\" class=\"dataframe\">\n",
       "  <thead>\n",
       "    <tr style=\"text-align: right;\">\n",
       "      <th></th>\n",
       "      <th>Student Name</th>\n",
       "      <th>Admission Status</th>\n",
       "      <th>Northern</th>\n",
       "      <th>Southern</th>\n",
       "      <th>Fee no barrier</th>\n",
       "      <th>&lt;2L for course</th>\n",
       "      <th>8-10L for course</th>\n",
       "      <th>2-4L for course</th>\n",
       "      <th>Management</th>\n",
       "      <th>Engineering</th>\n",
       "      <th>sciences</th>\n",
       "      <th>health</th>\n",
       "      <th>j+fd</th>\n",
       "      <th>Non Relevent</th>\n",
       "      <th>Fee(in lakhs)</th>\n",
       "    </tr>\n",
       "  </thead>\n",
       "  <tbody>\n",
       "    <tr>\n",
       "      <th>0</th>\n",
       "      <td>Manikanta mk</td>\n",
       "      <td>1</td>\n",
       "      <td>0</td>\n",
       "      <td>1</td>\n",
       "      <td>0</td>\n",
       "      <td>0</td>\n",
       "      <td>0</td>\n",
       "      <td>0</td>\n",
       "      <td>0</td>\n",
       "      <td>0</td>\n",
       "      <td>1</td>\n",
       "      <td>0</td>\n",
       "      <td>0</td>\n",
       "      <td>0</td>\n",
       "      <td>12</td>\n",
       "    </tr>\n",
       "  </tbody>\n",
       "</table>\n",
       "</div>"
      ],
      "text/plain": [
       "   Student Name  Admission Status  Northern  Southern  Fee no barrier  \\\n",
       "0  Manikanta mk                 1         0         1               0   \n",
       "\n",
       "   <2L for course  8-10L for course  2-4L for course  Management  Engineering  \\\n",
       "0               0                 0                0           0            0   \n",
       "\n",
       "   sciences  health  j+fd  Non Relevent  Fee(in lakhs)  \n",
       "0         1       0     0             0             12  "
      ]
     },
     "execution_count": 2,
     "metadata": {},
     "output_type": "execute_result"
    }
   ],
   "source": [
    "univ = pd.read_excel('D:/data/univ.xlsx')\n",
    "univ.head(1)"
   ]
  },
  {
   "cell_type": "code",
   "execution_count": 3,
   "metadata": {},
   "outputs": [],
   "source": [
    "x=univ.drop(['Student Name','Admission Status','Fee(in lakhs)','Non Relevent'],axis=1)\n",
    "y=univ['Admission Status']\n",
    "#plt.scatter(univ['Northern'],y,marker='+',color='Green')"
   ]
  },
  {
   "cell_type": "code",
   "execution_count": 5,
   "metadata": {
    "scrolled": false
   },
   "outputs": [
    {
     "name": "stdout",
     "output_type": "stream",
     "text": [
      "Optimization terminated successfully.\n",
      "         Current function value: 0.536322\n",
      "         Iterations 7\n",
      "                           Logit Regression Results                           \n",
      "==============================================================================\n",
      "Dep. Variable:       Admission Status   No. Observations:                92337\n",
      "Model:                          Logit   Df Residuals:                    92325\n",
      "Method:                           MLE   Df Model:                           11\n",
      "Date:                Thu, 10 Jun 2021   Pseudo R-squ.:                 0.06173\n",
      "Time:                        17:08:43   Log-Likelihood:                -49522.\n",
      "converged:                       True   LL-Null:                       -52780.\n",
      "Covariance Type:            nonrobust   LLR p-value:                     0.000\n",
      "====================================================================================\n",
      "                       coef    std err          z      P>|z|      [0.025      0.975]\n",
      "------------------------------------------------------------------------------------\n",
      "const               -3.1001      1.024     -3.029      0.002      -5.106      -1.094\n",
      "Northern             0.4956      0.021     23.765      0.000       0.455       0.536\n",
      "Southern            -0.7102      0.025    -28.564      0.000      -0.759      -0.662\n",
      "Fee no barrier      -1.1818      0.046    -25.440      0.000      -1.273      -1.091\n",
      "<2L for course      -0.2054      0.023     -9.003      0.000      -0.250      -0.161\n",
      "8-10L for course     0.4061      0.025     15.945      0.000       0.356       0.456\n",
      "2-4L for course     -0.8236      0.024    -33.822      0.000      -0.871      -0.776\n",
      "Management           2.4416      1.024      2.385      0.017       0.435       4.448\n",
      "Engineering          2.2740      1.024      2.222      0.026       0.268       4.280\n",
      "sciences             2.0641      1.024      2.016      0.044       0.057       4.071\n",
      "health               2.1379      1.024      2.088      0.037       0.131       4.144\n",
      "j+fd                 2.1619      1.024      2.112      0.035       0.155       4.169\n",
      "====================================================================================\n"
     ]
    }
   ],
   "source": [
    "# making logistic regression model\n",
    "x1=sm.add_constant(x)\n",
    "logit_model=sm.Logit(y,x1)\n",
    "result=logit_model.fit()\n",
    "print(result.summary())"
   ]
  },
  {
   "cell_type": "code",
   "execution_count": null,
   "metadata": {},
   "outputs": [],
   "source": [
    "#A positive coefficient indicates that as the value of the independent variable increases,\n",
    "#the mean of the dependent variable also tends to increase. \n",
    "#A negative coefficient suggests that as the independent variable increases, the dependent variable tends to decrease."
   ]
  },
  {
   "cell_type": "code",
   "execution_count": null,
   "metadata": {},
   "outputs": [],
   "source": [
    "# to find correlation\n",
    "#from scipy.stats.stats import pearsonr\n",
    "#pearsonr(univ['Northern'],univ['Management'])"
   ]
  },
  {
   "cell_type": "code",
   "execution_count": 6,
   "metadata": {},
   "outputs": [],
   "source": [
    "# to determine correlation matrix\n",
    "\n",
    "from sklearn.datasets import load_iris\n",
    "import seaborn as sns\n",
    "#data = load_iris()"
   ]
  },
  {
   "cell_type": "code",
   "execution_count": 7,
   "metadata": {},
   "outputs": [
    {
     "data": {
      "text/html": [
       "<div>\n",
       "<style scoped>\n",
       "    .dataframe tbody tr th:only-of-type {\n",
       "        vertical-align: middle;\n",
       "    }\n",
       "\n",
       "    .dataframe tbody tr th {\n",
       "        vertical-align: top;\n",
       "    }\n",
       "\n",
       "    .dataframe thead th {\n",
       "        text-align: right;\n",
       "    }\n",
       "</style>\n",
       "<table border=\"1\" class=\"dataframe\">\n",
       "  <thead>\n",
       "    <tr style=\"text-align: right;\">\n",
       "      <th></th>\n",
       "      <th>Northern</th>\n",
       "      <th>Southern</th>\n",
       "      <th>Fee no barrier</th>\n",
       "      <th>&lt;2L for course</th>\n",
       "      <th>8-10L for course</th>\n",
       "      <th>2-4L for course</th>\n",
       "      <th>Management</th>\n",
       "      <th>Engineering</th>\n",
       "      <th>sciences</th>\n",
       "      <th>health</th>\n",
       "      <th>j+fd</th>\n",
       "    </tr>\n",
       "  </thead>\n",
       "  <tbody>\n",
       "    <tr>\n",
       "      <th>Northern</th>\n",
       "      <td>1.000000</td>\n",
       "      <td>-0.649325</td>\n",
       "      <td>-0.180539</td>\n",
       "      <td>0.226835</td>\n",
       "      <td>-0.256929</td>\n",
       "      <td>0.131508</td>\n",
       "      <td>0.023446</td>\n",
       "      <td>-0.021597</td>\n",
       "      <td>-0.033671</td>\n",
       "      <td>0.034992</td>\n",
       "      <td>-0.007344</td>\n",
       "    </tr>\n",
       "    <tr>\n",
       "      <th>Southern</th>\n",
       "      <td>-0.649325</td>\n",
       "      <td>1.000000</td>\n",
       "      <td>0.150462</td>\n",
       "      <td>-0.253207</td>\n",
       "      <td>0.428971</td>\n",
       "      <td>-0.211775</td>\n",
       "      <td>0.055796</td>\n",
       "      <td>-0.030825</td>\n",
       "      <td>-0.060075</td>\n",
       "      <td>-0.023834</td>\n",
       "      <td>0.044216</td>\n",
       "    </tr>\n",
       "    <tr>\n",
       "      <th>Fee no barrier</th>\n",
       "      <td>-0.180539</td>\n",
       "      <td>0.150462</td>\n",
       "      <td>1.000000</td>\n",
       "      <td>-0.171073</td>\n",
       "      <td>-0.149714</td>\n",
       "      <td>-0.172014</td>\n",
       "      <td>-0.012354</td>\n",
       "      <td>-0.004483</td>\n",
       "      <td>0.014593</td>\n",
       "      <td>0.015907</td>\n",
       "      <td>-0.003546</td>\n",
       "    </tr>\n",
       "    <tr>\n",
       "      <th>&lt;2L for course</th>\n",
       "      <td>0.226835</td>\n",
       "      <td>-0.253207</td>\n",
       "      <td>-0.171073</td>\n",
       "      <td>1.000000</td>\n",
       "      <td>-0.316191</td>\n",
       "      <td>-0.363288</td>\n",
       "      <td>0.023974</td>\n",
       "      <td>-0.020694</td>\n",
       "      <td>-0.006824</td>\n",
       "      <td>0.010083</td>\n",
       "      <td>-0.010906</td>\n",
       "    </tr>\n",
       "    <tr>\n",
       "      <th>8-10L for course</th>\n",
       "      <td>-0.256929</td>\n",
       "      <td>0.428971</td>\n",
       "      <td>-0.149714</td>\n",
       "      <td>-0.316191</td>\n",
       "      <td>1.000000</td>\n",
       "      <td>-0.317930</td>\n",
       "      <td>0.044222</td>\n",
       "      <td>-0.029539</td>\n",
       "      <td>-0.055477</td>\n",
       "      <td>-0.008766</td>\n",
       "      <td>0.041126</td>\n",
       "    </tr>\n",
       "    <tr>\n",
       "      <th>2-4L for course</th>\n",
       "      <td>0.131508</td>\n",
       "      <td>-0.211775</td>\n",
       "      <td>-0.172014</td>\n",
       "      <td>-0.363288</td>\n",
       "      <td>-0.317930</td>\n",
       "      <td>1.000000</td>\n",
       "      <td>-0.045858</td>\n",
       "      <td>0.049793</td>\n",
       "      <td>0.049616</td>\n",
       "      <td>-0.020500</td>\n",
       "      <td>-0.034081</td>\n",
       "    </tr>\n",
       "    <tr>\n",
       "      <th>Management</th>\n",
       "      <td>0.023446</td>\n",
       "      <td>0.055796</td>\n",
       "      <td>-0.012354</td>\n",
       "      <td>0.023974</td>\n",
       "      <td>0.044222</td>\n",
       "      <td>-0.045858</td>\n",
       "      <td>1.000000</td>\n",
       "      <td>-0.561996</td>\n",
       "      <td>-0.261379</td>\n",
       "      <td>-0.274632</td>\n",
       "      <td>-0.239014</td>\n",
       "    </tr>\n",
       "    <tr>\n",
       "      <th>Engineering</th>\n",
       "      <td>-0.021597</td>\n",
       "      <td>-0.030825</td>\n",
       "      <td>-0.004483</td>\n",
       "      <td>-0.020694</td>\n",
       "      <td>-0.029539</td>\n",
       "      <td>0.049793</td>\n",
       "      <td>-0.561996</td>\n",
       "      <td>1.000000</td>\n",
       "      <td>-0.224879</td>\n",
       "      <td>-0.236281</td>\n",
       "      <td>-0.205637</td>\n",
       "    </tr>\n",
       "    <tr>\n",
       "      <th>sciences</th>\n",
       "      <td>-0.033671</td>\n",
       "      <td>-0.060075</td>\n",
       "      <td>0.014593</td>\n",
       "      <td>-0.006824</td>\n",
       "      <td>-0.055477</td>\n",
       "      <td>0.049616</td>\n",
       "      <td>-0.261379</td>\n",
       "      <td>-0.224879</td>\n",
       "      <td>1.000000</td>\n",
       "      <td>-0.109892</td>\n",
       "      <td>-0.095640</td>\n",
       "    </tr>\n",
       "    <tr>\n",
       "      <th>health</th>\n",
       "      <td>0.034992</td>\n",
       "      <td>-0.023834</td>\n",
       "      <td>0.015907</td>\n",
       "      <td>0.010083</td>\n",
       "      <td>-0.008766</td>\n",
       "      <td>-0.020500</td>\n",
       "      <td>-0.274632</td>\n",
       "      <td>-0.236281</td>\n",
       "      <td>-0.109892</td>\n",
       "      <td>1.000000</td>\n",
       "      <td>-0.100489</td>\n",
       "    </tr>\n",
       "    <tr>\n",
       "      <th>j+fd</th>\n",
       "      <td>-0.007344</td>\n",
       "      <td>0.044216</td>\n",
       "      <td>-0.003546</td>\n",
       "      <td>-0.010906</td>\n",
       "      <td>0.041126</td>\n",
       "      <td>-0.034081</td>\n",
       "      <td>-0.239014</td>\n",
       "      <td>-0.205637</td>\n",
       "      <td>-0.095640</td>\n",
       "      <td>-0.100489</td>\n",
       "      <td>1.000000</td>\n",
       "    </tr>\n",
       "  </tbody>\n",
       "</table>\n",
       "</div>"
      ],
      "text/plain": [
       "                  Northern  Southern  Fee no barrier  <2L for course  \\\n",
       "Northern          1.000000 -0.649325       -0.180539        0.226835   \n",
       "Southern         -0.649325  1.000000        0.150462       -0.253207   \n",
       "Fee no barrier   -0.180539  0.150462        1.000000       -0.171073   \n",
       "<2L for course    0.226835 -0.253207       -0.171073        1.000000   \n",
       "8-10L for course -0.256929  0.428971       -0.149714       -0.316191   \n",
       "2-4L for course   0.131508 -0.211775       -0.172014       -0.363288   \n",
       "Management        0.023446  0.055796       -0.012354        0.023974   \n",
       "Engineering      -0.021597 -0.030825       -0.004483       -0.020694   \n",
       "sciences         -0.033671 -0.060075        0.014593       -0.006824   \n",
       "health            0.034992 -0.023834        0.015907        0.010083   \n",
       "j+fd             -0.007344  0.044216       -0.003546       -0.010906   \n",
       "\n",
       "                  8-10L for course  2-4L for course  Management  Engineering  \\\n",
       "Northern                 -0.256929         0.131508    0.023446    -0.021597   \n",
       "Southern                  0.428971        -0.211775    0.055796    -0.030825   \n",
       "Fee no barrier           -0.149714        -0.172014   -0.012354    -0.004483   \n",
       "<2L for course           -0.316191        -0.363288    0.023974    -0.020694   \n",
       "8-10L for course          1.000000        -0.317930    0.044222    -0.029539   \n",
       "2-4L for course          -0.317930         1.000000   -0.045858     0.049793   \n",
       "Management                0.044222        -0.045858    1.000000    -0.561996   \n",
       "Engineering              -0.029539         0.049793   -0.561996     1.000000   \n",
       "sciences                 -0.055477         0.049616   -0.261379    -0.224879   \n",
       "health                   -0.008766        -0.020500   -0.274632    -0.236281   \n",
       "j+fd                      0.041126        -0.034081   -0.239014    -0.205637   \n",
       "\n",
       "                  sciences    health      j+fd  \n",
       "Northern         -0.033671  0.034992 -0.007344  \n",
       "Southern         -0.060075 -0.023834  0.044216  \n",
       "Fee no barrier    0.014593  0.015907 -0.003546  \n",
       "<2L for course   -0.006824  0.010083 -0.010906  \n",
       "8-10L for course -0.055477 -0.008766  0.041126  \n",
       "2-4L for course   0.049616 -0.020500 -0.034081  \n",
       "Management       -0.261379 -0.274632 -0.239014  \n",
       "Engineering      -0.224879 -0.236281 -0.205637  \n",
       "sciences          1.000000 -0.109892 -0.095640  \n",
       "health           -0.109892  1.000000 -0.100489  \n",
       "j+fd             -0.095640 -0.100489  1.000000  "
      ]
     },
     "execution_count": 7,
     "metadata": {},
     "output_type": "execute_result"
    }
   ],
   "source": [
    "#df= pd.DataFrame(data= univ, columns= univ.drop(['Student Name','Admission Status','Fee(in lakhs)','Non Relevent'],axis=1) )\n",
    "#univ.corr()\n",
    "univ.drop(['Student Name','Admission Status','Fee(in lakhs)','Non Relevent'],axis=1).corr()"
   ]
  },
  {
   "cell_type": "code",
   "execution_count": null,
   "metadata": {},
   "outputs": [],
   "source": [
    "#As can be seen, the diagonal elements are 1. Both the upper and lower triangular area have the same elements. \n",
    "#Therefore, we only need to show one of these in order to check correlation."
   ]
  },
  {
   "cell_type": "code",
   "execution_count": 8,
   "metadata": {},
   "outputs": [
    {
     "data": {
      "text/plain": [
       "<AxesSubplot:>"
      ]
     },
     "execution_count": 8,
     "metadata": {},
     "output_type": "execute_result"
    },
    {
     "data": {
      "image/png": "[encoded data removed]",
      "text/plain": [
       "<Figure size 432x432 with 2 Axes>"
      ]
     },
     "metadata": {
      "needs_background": "light"
     },
     "output_type": "display_data"
    }
   ],
   "source": [
    "plt.figure(figsize= (6, 6))\n",
    "sns.heatmap(univ.drop(['Student Name','Admission Status','Fee(in lakhs)','Non Relevent'],axis=1).corr())\n",
    "#darker the color gets, the more negative linear relationship exists between the variables."
   ]
  },
  {
   "cell_type": "code",
   "execution_count": 9,
   "metadata": {},
   "outputs": [
    {
     "data": {
      "text/plain": [
       "LogisticRegression(max_iter=1000)"
      ]
     },
     "execution_count": 9,
     "metadata": {},
     "output_type": "execute_result"
    }
   ],
   "source": [
    "# create logistic regression object\n",
    "Lreg=LogisticRegression(solver='lbfgs',max_iter=1000)\n",
    "\n",
    "#perform logistic regression\n",
    "Lreg.fit(x,y.ravel())   #ravel() will return the ID array with all the input array elements"
   ]
  },
  {
   "cell_type": "code",
   "execution_count": 10,
   "metadata": {},
   "outputs": [
    {
     "data": {
      "text/plain": [
       "(11, 92337)"
      ]
     },
     "execution_count": 10,
     "metadata": {},
     "output_type": "execute_result"
    }
   ],
   "source": [
    "x1=np.transpose(x)\n",
    "x1.shape"
   ]
  },
  {
   "cell_type": "code",
   "execution_count": 11,
   "metadata": {},
   "outputs": [
    {
     "data": {
      "text/plain": [
       "(1, 11)"
      ]
     },
     "execution_count": 11,
     "metadata": {},
     "output_type": "execute_result"
    }
   ],
   "source": [
    "x2=Lreg.coef_[0]\n",
    "x3=np.asmatrix(x2)\n",
    "x3.shape"
   ]
  },
  {
   "cell_type": "code",
   "execution_count": 12,
   "metadata": {},
   "outputs": [
    {
     "data": {
      "text/plain": [
       "array([0.14843768, 0.17699863, 0.15800403, ..., 0.16158237, 0.18091471,\n",
       "       0.15183844])"
      ]
     },
     "execution_count": 12,
     "metadata": {},
     "output_type": "execute_result"
    }
   ],
   "source": [
    "y_prob=Lreg.predict_proba(x)[:,1]\n",
    "y_prob"
   ]
  },
  {
   "cell_type": "code",
   "execution_count": 13,
   "metadata": {},
   "outputs": [
    {
     "data": {
      "text/plain": [
       "92337"
      ]
     },
     "execution_count": 13,
     "metadata": {},
     "output_type": "execute_result"
    }
   ],
   "source": [
    "x4=np.asarray(-3.1+np.dot(x3,x1))\n",
    "x5=x4[0]\n",
    "len(x5)"
   ]
  },
  {
   "cell_type": "code",
   "execution_count": 14,
   "metadata": {},
   "outputs": [
    {
     "data": {
      "text/plain": [
       "[<matplotlib.lines.Line2D at 0x2dbf8aadfa0>]"
      ]
     },
     "execution_count": 14,
     "metadata": {},
     "output_type": "execute_result"
    },
    {
     "data": {
      "image/png": "[encoded data removed]",
      "text/plain": [
       "<Figure size 432x288 with 1 Axes>"
      ]
     },
     "metadata": {
      "needs_background": "light"
     },
     "output_type": "display_data"
    }
   ],
   "source": [
    "plt.plot(x5,y_prob)"
   ]
  },
  {
   "cell_type": "code",
   "execution_count": 15,
   "metadata": {},
   "outputs": [
    {
     "data": {
      "text/plain": [
       "0    68457\n",
       "1    23880\n",
       "Name: Admission Status, dtype: int64"
      ]
     },
     "execution_count": 15,
     "metadata": {},
     "output_type": "execute_result"
    }
   ],
   "source": [
    "univ['Admission Status'].value_counts()"
   ]
  },
  {
   "cell_type": "code",
   "execution_count": 17,
   "metadata": {},
   "outputs": [
    {
     "data": {
      "text/plain": [
       "(64635, 27702, 64635, 27702)"
      ]
     },
     "execution_count": 17,
     "metadata": {},
     "output_type": "execute_result"
    }
   ],
   "source": [
    "##splitting the data set\n",
    "from sklearn.model_selection import train_test_split\n",
    "x_train, x_test,y_train, y_test= train_test_split(x,y,test_size=0.30,random_state=42)\n",
    "len(x_train),len(x_test),len(y_train),len(y_test)"
   ]
  },
  {
   "cell_type": "code",
   "execution_count": 18,
   "metadata": {},
   "outputs": [
    {
     "data": {
      "text/plain": [
       "LogisticRegression(max_iter=1000)"
      ]
     },
     "execution_count": 18,
     "metadata": {},
     "output_type": "execute_result"
    }
   ],
   "source": [
    "# create logistic regression object\n",
    "Lreg=LogisticRegression(solver='lbfgs',max_iter=1000)\n",
    "\n",
    "#perform logistic regression\n",
    "Lreg.fit(x_train,y_train.ravel())   #ravel() will return the ID array with all the input array elements"
   ]
  },
  {
   "cell_type": "code",
   "execution_count": 19,
   "metadata": {},
   "outputs": [
    {
     "data": {
      "text/plain": [
       "array([0, 1, 0, ..., 0, 0, 0], dtype=int64)"
      ]
     },
     "execution_count": 19,
     "metadata": {},
     "output_type": "execute_result"
    }
   ],
   "source": [
    "# after giving x_test as input we are getting predicted value of admission status\n",
    "y_predict_test= Lreg.predict(x_test)\n",
    "y_predict_test"
   ]
  },
  {
   "cell_type": "code",
   "execution_count": 20,
   "metadata": {},
   "outputs": [
    {
     "data": {
      "text/plain": [
       "array([0, 0, 0, ..., 0, 0, 0], dtype=int64)"
      ]
     },
     "execution_count": 20,
     "metadata": {},
     "output_type": "execute_result"
    }
   ],
   "source": [
    "# Now predict admission status for train dataset\n",
    "y_predict_train=Lreg.predict(x_train)\n",
    "y_predict_train"
   ]
  },
  {
   "cell_type": "code",
   "execution_count": 21,
   "metadata": {},
   "outputs": [
    {
     "data": {
      "text/plain": [
       "array([0.31919762, 0.2398018 , 0.18471769, ..., 0.17345231, 0.27926186,\n",
       "       0.22567709])"
      ]
     },
     "execution_count": 21,
     "metadata": {},
     "output_type": "execute_result"
    }
   ],
   "source": [
    "# train dataset probability\n",
    "y_prob_train=Lreg.predict_proba(x_train)[:,1]\n",
    "y_prob_train"
   ]
  },
  {
   "cell_type": "code",
   "execution_count": 22,
   "metadata": {},
   "outputs": [
    {
     "data": {
      "text/plain": [
       "array([0.13342504, 0.56001788, 0.07267934, ..., 0.17345231, 0.45488134,\n",
       "       0.1351877 ])"
      ]
     },
     "execution_count": 22,
     "metadata": {},
     "output_type": "execute_result"
    }
   ],
   "source": [
    "# test dataset probability\n",
    "y_prob_test=Lreg.predict_proba(x_test)[:,1]\n",
    "y_prob_test"
   ]
  },
  {
   "cell_type": "code",
   "execution_count": 23,
   "metadata": {},
   "outputs": [
    {
     "data": {
      "text/plain": [
       "0.7474550573965779"
      ]
     },
     "execution_count": 23,
     "metadata": {},
     "output_type": "execute_result"
    }
   ],
   "source": [
    "#to check accuracy of test dataset\n",
    "from sklearn.metrics import accuracy_score\n",
    "score=accuracy_score(y_test,y_predict_test)\n",
    "score                        # percentage of correct predictions"
   ]
  },
  {
   "cell_type": "code",
   "execution_count": 24,
   "metadata": {},
   "outputs": [
    {
     "data": {
      "text/plain": [
       "array([[20246,   251],\n",
       "       [ 6745,   460]], dtype=int64)"
      ]
     },
     "execution_count": 24,
     "metadata": {},
     "output_type": "execute_result"
    }
   ],
   "source": [
    "from sklearn.metrics import confusion_matrix\n",
    "confusion_matrix(y_test,y_predict_test)"
   ]
  },
  {
   "cell_type": "code",
   "execution_count": 25,
   "metadata": {},
   "outputs": [
    {
     "name": "stdout",
     "output_type": "stream",
     "text": [
      "True Negatives: 20246\n",
      "False Positive: 251\n",
      "False Negatives: 6745\n",
      "True Positive: 460\n"
     ]
    }
   ],
   "source": [
    "# True Negatives i.e person will not take admission and my test data set is showing the same\n",
    "# False Positive  i.e person will not take admission but my model is predicting that it will take admission\n",
    "# False Negative i.e person will take admission and my model is predicting that it will not take admission\n",
    "# True Positive i.e person will take admission and my model predicts it will take admission\n",
    "\n",
    "tn,fp,fn,tp=confusion_matrix(y_test,y_predict_test).ravel()\n",
    "print(\"True Negatives:\",tn)\n",
    "print(\"False Positive:\",fp)\n",
    "print(\"False Negatives:\",fn)\n",
    "print(\"True Positive:\",tp)"
   ]
  },
  {
   "cell_type": "code",
   "execution_count": 26,
   "metadata": {},
   "outputs": [
    {
     "name": "stdout",
     "output_type": "stream",
     "text": [
      "              precision    recall  f1-score   support\n",
      "\n",
      "           0       0.75      0.99      0.85     20497\n",
      "           1       0.65      0.06      0.12      7205\n",
      "\n",
      "    accuracy                           0.75     27702\n",
      "   macro avg       0.70      0.53      0.48     27702\n",
      "weighted avg       0.72      0.75      0.66     27702\n",
      "\n"
     ]
    }
   ],
   "source": [
    "print(classification_report(y_test,y_predict_test)) # recall tells about when it is actually yes, how often does it predict yes \n",
    "                                            #precision tells when it predicts yes, how often is it correct"
   ]
  },
  {
   "cell_type": "code",
   "execution_count": null,
   "metadata": {},
   "outputs": [],
   "source": [
    "# precision=tp/(tp+fp)   \n",
    "# recall = tp/(tp+fn)    .....Sensitivity(true positive rate tpr) or tn/(tn+fp)....Specificity (true negative rate tnr)\n",
    "#accuracy= (tp+tn)/(tn+fp+fn+tp)\n",
    "\n",
    "# in our model we are getting very high specificty(tnr) and very low sensitivity(tpr) \n",
    "# that means we have kept very high threshold,,,,,,so which threshold to choose...??"
   ]
  },
  {
   "cell_type": "code",
   "execution_count": null,
   "metadata": {},
   "outputs": [],
   "source": [
    "Accuracy=(tp+tn)/(tn+fp+fn+tp)\n",
    "print(\"Accuracy\",Accuracy)"
   ]
  },
  {
   "cell_type": "code",
   "execution_count": null,
   "metadata": {},
   "outputs": [],
   "source": [
    "# true negative rate\n",
    "\n",
    "Specificity=tn/(tn+fp)\n",
    "print(\"Specificity\",Specificity)"
   ]
  },
  {
   "cell_type": "code",
   "execution_count": null,
   "metadata": {},
   "outputs": [],
   "source": [
    "# true positive rate\n",
    "Sensitivity=tp/(tp+fn)\n",
    "print(\"Sensitivity\",Sensitivity)"
   ]
  },
  {
   "cell_type": "code",
   "execution_count": 27,
   "metadata": {},
   "outputs": [],
   "source": [
    "#ROC curve is used to choose most appropriate cut-off for a test\n",
    "#the best cut-off has high tpr and low tnr\n",
    "#measure usefulness of a test more area means more useful test\n",
    "\n",
    "from sklearn.metrics import roc_auc_score\n",
    "from sklearn.metrics import roc_curve,auc\n",
    "log_ROC_AUC1= roc_auc_score(y_train,y_predict_train)\n",
    "fpr1,tpr1,thresholds1=roc_curve(y_train,y_prob_train)   \n",
    "roc_auc1=auc(fpr1,tpr1)"
   ]
  },
  {
   "cell_type": "code",
   "execution_count": 28,
   "metadata": {},
   "outputs": [
    {
     "data": {
      "image/png": "[encoded data removed]",
      "text/plain": [
       "<Figure size 432x288 with 1 Axes>"
      ]
     },
     "metadata": {
      "needs_background": "light"
     },
     "output_type": "display_data"
    }
   ],
   "source": [
    "plt.figure()\n",
    "plt.plot(fpr1,tpr1,color='blue',label='ROC curve (area=%0.2f)'%roc_auc1)\n",
    "plt.plot([0,1],[0,1],'r--')\n",
    "plt.xlim([0.0,1.0])\n",
    "plt.ylim([0.0,1.05])\n",
    "plt.xlabel('False Positive Rate')\n",
    "plt.ylabel('True Positive Rate')\n",
    "plt.title('Receiver Operating Characteristic Example')\n",
    "plt.legend(loc=\"lower right\")\n",
    "plt.show()"
   ]
  },
  {
   "cell_type": "code",
   "execution_count": 30,
   "metadata": {},
   "outputs": [
    {
     "name": "stdout",
     "output_type": "stream",
     "text": [
      "Area under ROC curve: 0.672848\n"
     ]
    }
   ],
   "source": [
    "log_ROC_AUC2= roc_auc_score(y_test,y_predict_test)\n",
    "fpr2,tpr2,thresholds2=roc_curve(y_test,y_prob_test)\n",
    "roc_auc2=auc(fpr2,tpr2)\n",
    "print(\"Area under ROC curve: %f\" %roc_auc2)"
   ]
  },
  {
   "cell_type": "code",
   "execution_count": 31,
   "metadata": {},
   "outputs": [
    {
     "data": {
      "image/png": "[encoded data removed]",
      "text/plain": [
       "<Figure size 432x288 with 1 Axes>"
      ]
     },
     "metadata": {
      "needs_background": "light"
     },
     "output_type": "display_data"
    }
   ],
   "source": [
    "plt.figure()\n",
    "plt.plot(fpr2,tpr2,color='blue',label='ROC curve (area=%0.2f)'%roc_auc2)\n",
    "plt.plot([0,1],[0,1],'r--')\n",
    "plt.xlim([0.0,1.0])\n",
    "plt.ylim([0.0,1.05])\n",
    "plt.xlabel('False Positive Rate')\n",
    "plt.ylabel('True Positive Rate')\n",
    "plt.title('Receiver Operating Characteristic Example')\n",
    "plt.legend(loc=\"lower right\")\n",
    "plt.show()"
   ]
  },
  {
   "cell_type": "code",
   "execution_count": null,
   "metadata": {},
   "outputs": [],
   "source": [
    "#The threshold defines the point at which the probability is mapped to class 0 versus class 1,\n",
    "#where the default threshold is 0.5\n",
    "# optimal threshold is that point where true positive rate and true negative rate becomes same. "
   ]
  },
  {
   "cell_type": "code",
   "execution_count": 32,
   "metadata": {},
   "outputs": [
    {
     "data": {
      "text/html": [
       "<div>\n",
       "<style scoped>\n",
       "    .dataframe tbody tr th:only-of-type {\n",
       "        vertical-align: middle;\n",
       "    }\n",
       "\n",
       "    .dataframe tbody tr th {\n",
       "        vertical-align: top;\n",
       "    }\n",
       "\n",
       "    .dataframe thead th {\n",
       "        text-align: right;\n",
       "    }\n",
       "</style>\n",
       "<table border=\"1\" class=\"dataframe\">\n",
       "  <thead>\n",
       "    <tr style=\"text-align: right;\">\n",
       "      <th></th>\n",
       "      <th>fpr</th>\n",
       "      <th>tpr</th>\n",
       "      <th>1-fpr</th>\n",
       "      <th>tf</th>\n",
       "      <th>thresholds</th>\n",
       "    </tr>\n",
       "  </thead>\n",
       "  <tbody>\n",
       "    <tr>\n",
       "      <th>27</th>\n",
       "      <td>0.38308</td>\n",
       "      <td>0.618321</td>\n",
       "      <td>0.61692</td>\n",
       "      <td>0.001401</td>\n",
       "      <td>0.271754</td>\n",
       "    </tr>\n",
       "  </tbody>\n",
       "</table>\n",
       "</div>"
      ],
      "text/plain": [
       "        fpr       tpr    1-fpr        tf  thresholds\n",
       "27  0.38308  0.618321  0.61692  0.001401    0.271754"
      ]
     },
     "execution_count": 32,
     "metadata": {},
     "output_type": "execute_result"
    }
   ],
   "source": [
    "i=np.arange(len(tpr2))  # index\n",
    "roc =pd.DataFrame({'fpr' : pd.Series(fpr2,index=i),'tpr' : pd.Series(tpr2,index=i),\n",
    "                   '1-fpr': pd.Series(1-fpr2,index=i),'tf' : pd.Series(tpr2-(1-fpr2),index=i),\n",
    "                  'thresholds': pd.Series(thresholds2,index=i)})\n",
    "roc.iloc[(roc.tf-0).abs().argsort()[:1]]"
   ]
  },
  {
   "cell_type": "code",
   "execution_count": 38,
   "metadata": {},
   "outputs": [
    {
     "name": "stderr",
     "output_type": "stream",
     "text": [
      "C:\\Users\\mayan\\anaconda3\\lib\\site-packages\\sklearn\\utils\\validation.py:67: FutureWarning: Pass threshold=0.2717 as keyword args. From version 0.25 passing these as positional arguments will result in an error\n",
      "  warnings.warn(\"Pass {} as keyword args. From version 0.25 \"\n"
     ]
    },
    {
     "data": {
      "text/plain": [
       "array([0., 1., 0., ..., 0., 1., 0.])"
      ]
     },
     "execution_count": 38,
     "metadata": {},
     "output_type": "execute_result"
    }
   ],
   "source": [
    "from sklearn.preprocessing import binarize\n",
    "y_predict_class1=binarize(y_prob_test.reshape(1,-1),0.2717)[0]\n",
    "y_predict_class1"
   ]
  },
  {
   "cell_type": "code",
   "execution_count": 39,
   "metadata": {},
   "outputs": [
    {
     "data": {
      "text/plain": [
       "array([0, 1, 0, ..., 0, 1, 0])"
      ]
     },
     "execution_count": 39,
     "metadata": {},
     "output_type": "execute_result"
    }
   ],
   "source": [
    "# converting the datatype from float to integer\n",
    "y_predict_class1=y_predict_class1.astype(int)\n",
    "y_predict_class1"
   ]
  },
  {
   "cell_type": "code",
   "execution_count": 40,
   "metadata": {},
   "outputs": [
    {
     "name": "stdout",
     "output_type": "stream",
     "text": [
      "[[12645  7852]\n",
      " [ 2750  4455]]\n"
     ]
    }
   ],
   "source": [
    "confusion_matrix_2=confusion_matrix(y_test,y_predict_class1)\n",
    "print(confusion_matrix_2)"
   ]
  },
  {
   "cell_type": "code",
   "execution_count": 41,
   "metadata": {},
   "outputs": [
    {
     "name": "stdout",
     "output_type": "stream",
     "text": [
      "True Negatives: 12645\n",
      "False Positive: 7852\n",
      "False Negatives: 2750\n",
      "True Positive: 4455\n"
     ]
    }
   ],
   "source": [
    "tn1,fp1,fn1,tp1=confusion_matrix_2.ravel()\n",
    "print(\"True Negatives:\",tn1)\n",
    "print(\"False Positive:\",fp1)\n",
    "print(\"False Negatives:\",fn1)\n",
    "print(\"True Positive:\",tp1)"
   ]
  },
  {
   "cell_type": "code",
   "execution_count": 42,
   "metadata": {},
   "outputs": [
    {
     "name": "stdout",
     "output_type": "stream",
     "text": [
      "              precision    recall  f1-score   support\n",
      "\n",
      "           0       0.82      0.62      0.70     20497\n",
      "           1       0.36      0.62      0.46      7205\n",
      "\n",
      "    accuracy                           0.62     27702\n",
      "   macro avg       0.59      0.62      0.58     27702\n",
      "weighted avg       0.70      0.62      0.64     27702\n",
      "\n"
     ]
    }
   ],
   "source": [
    "print(classification_report(y_test,y_predict_class1))"
   ]
  },
  {
   "cell_type": "code",
   "execution_count": 43,
   "metadata": {},
   "outputs": [],
   "source": [
    "log_ROC_AUC3= roc_auc_score(y_test,y_predict_class1)\n",
    "fpr3,tpr3,thresholds3=roc_curve(y_test,y_prob_test)   \n",
    "roc_auc3=auc(fpr3,tpr3)"
   ]
  },
  {
   "cell_type": "code",
   "execution_count": 44,
   "metadata": {},
   "outputs": [
    {
     "data": {
      "image/png": "[encoded data removed]",
      "text/plain": [
       "<Figure size 432x288 with 1 Axes>"
      ]
     },
     "metadata": {
      "needs_background": "light"
     },
     "output_type": "display_data"
    }
   ],
   "source": [
    "plt.figure()\n",
    "plt.plot(fpr3,tpr3,color='blue',label='ROC curve (area=%0.2f)'%roc_auc3)\n",
    "plt.plot([0,1],[0,1],'r--')\n",
    "plt.xlim([0.0,1.0])\n",
    "plt.ylim([0.0,1.05])\n",
    "plt.xlabel('False Positive Rate')\n",
    "plt.ylabel('True Positive Rate')\n",
    "plt.title('Receiver Operating Characteristic Example')\n",
    "plt.legend(loc=\"lower right\")\n",
    "plt.show()"
   ]
  },
  {
   "cell_type": "code",
   "execution_count": null,
   "metadata": {},
   "outputs": [],
   "source": []
  },
  {
   "cell_type": "code",
   "execution_count": null,
   "metadata": {},
   "outputs": [],
   "source": []
  },
  {
   "cell_type": "code",
   "execution_count": null,
   "metadata": {},
   "outputs": [],
   "source": []
  },
  {
   "cell_type": "code",
   "execution_count": null,
   "metadata": {},
   "outputs": [],
   "source": []
  },
  {
   "cell_type": "code",
   "execution_count": null,
   "metadata": {},
   "outputs": [],
   "source": []
  },
  {
   "cell_type": "code",
   "execution_count": null,
   "metadata": {},
   "outputs": [],
   "source": []
  },
  {
   "cell_type": "code",
   "execution_count": null,
   "metadata": {},
   "outputs": [],
   "source": []
  }
 ],
 "metadata": {
  "kernelspec": {
   "display_name": "Python 3",
   "language": "python",
   "name": "python3"
  },
  "language_info": {
   "codemirror_mode": {
    "name": "ipython",
    "version": 3
   },
   "file_extension": ".py",
   "mimetype": "text/x-python",
   "name": "python",
   "nbconvert_exporter": "python",
   "pygments_lexer": "ipython3",
   "version": "3.8.5"
  }
 },
 "nbformat": 4,
 "nbformat_minor": 4
}
